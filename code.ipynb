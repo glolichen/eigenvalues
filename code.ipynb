{
 "cells": [
  {
   "cell_type": "code",
   "execution_count": 1,
   "metadata": {},
   "outputs": [
    {
     "name": "stdout",
     "output_type": "stream",
     "text": [
      "Numpy 2.2.3\n",
      "Python 3.13.2\n"
     ]
    }
   ],
   "source": [
    "import numpy as np\n",
    "import scipy as sp\n",
    "import time\n",
    "print(\"Numpy\", np.__version__)\n",
    "!python --version"
   ]
  },
  {
   "cell_type": "markdown",
   "metadata": {},
   "source": [
    "# Section 1: Power Method"
   ]
  },
  {
   "cell_type": "code",
   "execution_count": 106,
   "metadata": {},
   "outputs": [],
   "source": [
    "def power_method(A: np.ndarray, iterations: int, x0=None) -> float:\n",
    "  x = np.random.randn(A.shape[1]) if x0 is None else x0\n",
    "  for i in range(iterations):\n",
    "    x = A @ x\n",
    "    x /= np.linalg.norm(x)\n",
    "  return np.dot(A @ x, x) / np.dot(x, x)\n"
   ]
  },
  {
   "cell_type": "markdown",
   "metadata": {},
   "source": [
    "# Section 2: Basic QR Algorithm"
   ]
  },
  {
   "cell_type": "code",
   "execution_count": 31,
   "metadata": {},
   "outputs": [],
   "source": [
    "def basic_qr(A: np.ndarray, iterations: int) -> float:\n",
    "    for i in range(iterations):\n",
    "        Q, R = np.linalg.qr(A)\n",
    "        A = R @ Q\n",
    "    return A, np.diag(A)\n"
   ]
  },
  {
   "cell_type": "markdown",
   "metadata": {},
   "source": [
    "# Section 2.2: Good Cases"
   ]
  },
  {
   "cell_type": "markdown",
   "metadata": {},
   "source": [
    "Let $\\lambda(A)$ denote set of eigenvalues of the matrix $A$.\n",
    "\n",
    "\\begin{align}\n",
    "    \\lambda\\begin{pmatrix}\n",
    "        -5/2 & 11 & -5 \\\\\n",
    "        -2 & 29/2 & -7 \\\\\n",
    "        -4 & 26 & -25/2\n",
    "    \\end{pmatrix}\n",
    "    &=\\left\\{\\frac32,-\\frac32,-\\frac12\\right\\} \\\\\n",
    "    \\lambda\\begin{pmatrix}\n",
    "        1 & 2 & 1 \\\\\n",
    "        3 & 6 & 3 \\\\\n",
    "        -4 & 8 & -4\n",
    "    \\end{pmatrix}\n",
    "    &=\\left\\{3, 0, 0\\right\\} \\\\\n",
    "    \\lambda\\begin{pmatrix}15 & -4 & -3 \\\\ -10 & 12 & -6 \\\\ -20 & 4 & -2\\end{pmatrix}\n",
    "    &=\\left\\{20, 10, -5\\right\\}\n",
    "\\end{align}"
   ]
  },
  {
   "cell_type": "code",
   "execution_count": 34,
   "metadata": {},
   "outputs": [
    {
     "name": "stdout",
     "output_type": "stream",
     "text": [
      "matrix A: [[-2.5, 11, -5], [-2, 14.5, -7], [-4, 26, -12.5]]\n",
      "its eigenvalues are: [-1.5 -0.5  1.5]\n",
      "Basic QR Algorithm eigenvalues: [-1.5  1.5 -0.5]\n",
      "Basic QR Algorithm result:\n",
      "[[-1.50000000e+00  2.59807621e+01 -2.40416306e+01]\n",
      " [ 1.63527637e-16  1.50000000e+00 -2.44948974e+00]\n",
      " [-1.64161388e-25  4.26503797e-24 -5.00000000e-01]]\n",
      "--------------------------------------------------\n",
      "matrix A: [[1, 2, 1], [3, 6, 3], [-4, -8, -4]]\n",
      "its eigenvalues are: [ 3.00000000e+00 -5.38770185e-16 -1.24432063e-16]\n",
      "Basic QR Algorithm eigenvalues: [3.00000000e+00 9.18276524e-16 0.00000000e+00]\n",
      "Basic QR Algorithm result:\n",
      "[[ 3.00000000e+00 -4.60000000e+00 -1.12178429e+01]\n",
      " [ 0.00000000e+00  9.18276524e-16 -9.90488636e-16]\n",
      " [ 0.00000000e+00  0.00000000e+00  0.00000000e+00]]\n",
      "--------------------------------------------------\n",
      "matrix A: [[15, -4, -3], [-10, 12, -6], [-20, 4, -2]]\n",
      "its eigenvalues are: [20. -5. 10.]\n",
      "Basic QR Algorithm eigenvalues: [20. 10. -5.]\n",
      "Basic QR Algorithm result:\n",
      "[[ 2.00000000e+01 -2.82842712e+00  1.97989899e+01]\n",
      " [-4.89080977e-30  1.00000000e+01 -5.00000000e+00]\n",
      " [-1.16210187e-29 -4.99600361e-15 -5.00000000e+00]]\n",
      "--------------------------------------------------\n"
     ]
    }
   ],
   "source": [
    "def test_function(A):\n",
    "    print(\"matrix A:\", A)\n",
    "    print(\"its eigenvalues are:\", np.linalg.eigvals(A))\n",
    "    A, evals = basic_qr(A, 50)\n",
    "    print(\"Basic QR Algorithm eigenvalues:\", evals)\n",
    "    print(\"Basic QR Algorithm result:\")\n",
    "    print(A)\n",
    "    print(\"--------------------------------------------------\")\n",
    "\n",
    "# matrix 1\n",
    "test_function([\n",
    "    [-5/2, 11, -5],\n",
    "    [-2, 29/2, -7],\n",
    "    [-4, 26, -25/2]\n",
    "])\n",
    "\n",
    "# matrix 2\n",
    "test_function([\n",
    "    [1, 2, 1],\n",
    "    [3, 6, 3],\n",
    "    [-4, -8, -4]\n",
    "])\n",
    "\n",
    "# matrix 3\n",
    "test_function([\n",
    "    [15, -4, -3],\n",
    "    [-10, 12, -6],\n",
    "    [-20, 4, -2]\n",
    "])"
   ]
  },
  {
   "cell_type": "markdown",
   "metadata": {},
   "source": [
    "# Section 2.3: Bad Cases"
   ]
  },
  {
   "cell_type": "markdown",
   "metadata": {},
   "source": [
    "\\begin{align}\n",
    "    \\lambda\\begin{pmatrix}\n",
    "        0 & 1 & 0 \\\\\n",
    "        1 & 0 & 0 \\\\\n",
    "        0 & 0 & 3\n",
    "    \\end{pmatrix}\n",
    "    &=\\left\\{3, -1, 1\\right\\} \\\\\n",
    "    \\lambda\\begin{pmatrix}\n",
    "        0 & 1 \\\\\n",
    "        1 & 0\n",
    "    \\end{pmatrix}\n",
    "    &=\\left\\{-1, 1\\right\\} \\\\\n",
    "    \\lambda\\begin{pmatrix}\n",
    "        4/5 & -3/5 & 0 \\\\\n",
    "        3/5 & 4/5 & 0 \\\\\n",
    "        1 & 2 & 2\n",
    "    \\end{pmatrix}\n",
    "    &=\\left\\{2, \\frac{4+3i}{5}, \\frac{4-3i}{5}\\right\\} \\\\\n",
    "    \\lambda\\begin{pmatrix}\n",
    "        0 & 0 & 0 & 1 \\\\\n",
    "        0 & 0 & 1 & 0 \\\\\n",
    "        0 & 1 & 0 & 0 \\\\\n",
    "        1 & 0 & 0 & 0\n",
    "    \\end{pmatrix}\n",
    "    &=\\left\\{1, -1, 1, -1\\right\\}\n",
    "\\end{align}"
   ]
  },
  {
   "cell_type": "code",
   "execution_count": 35,
   "metadata": {},
   "outputs": [
    {
     "name": "stdout",
     "output_type": "stream",
     "text": [
      "matrix A: [[0, 1, 0], [1, 0, 0], [0, 0, 3]]\n",
      "its eigenvalues are: [ 1. -1.  3.]\n",
      "Basic QR Algorithm eigenvalues: [0. 0. 3.]\n",
      "Basic QR Algorithm result:\n",
      "[[0. 1. 0.]\n",
      " [1. 0. 0.]\n",
      " [0. 0. 3.]]\n",
      "--------------------------------------------------\n",
      "matrix A: [[0, 1], [1, 0]]\n",
      "its eigenvalues are: [ 1. -1.]\n",
      "Basic QR Algorithm eigenvalues: [0. 0.]\n",
      "Basic QR Algorithm result:\n",
      "[[0. 1.]\n",
      " [1. 0.]]\n",
      "--------------------------------------------------\n",
      "matrix A: [[0.8, -0.6, 0], [0.6, 0.8, 0], [1, 2, 2]]\n",
      "its eigenvalues are: [2. +0.j  0.8+0.6j 0.8-0.6j]\n",
      "Basic QR Algorithm eigenvalues: [2.  0.8 0.8]\n",
      "Basic QR Algorithm result:\n",
      "[[ 2.00000000e+00 -6.51143711e-01 -2.13916149e+00]\n",
      " [ 7.99360578e-16  8.00000000e-01 -6.00000000e-01]\n",
      " [ 3.99680289e-16  6.00000000e-01  8.00000000e-01]]\n",
      "--------------------------------------------------\n",
      "matrix A: [[0, 0, 0, 1], [0, 0, 1, 0], [0, 1, 0, 0], [1, 0, 0, 0]]\n",
      "its eigenvalues are: [ 1. -1.  1. -1.]\n",
      "Basic QR Algorithm eigenvalues: [0. 0. 0. 0.]\n",
      "Basic QR Algorithm result:\n",
      "[[0. 0. 0. 1.]\n",
      " [0. 0. 1. 0.]\n",
      " [0. 1. 0. 0.]\n",
      " [1. 0. 0. 0.]]\n",
      "--------------------------------------------------\n"
     ]
    }
   ],
   "source": [
    "# matrix 1\n",
    "test_function([\n",
    "    [0, 1, 0],\n",
    "    [1, 0, 0],\n",
    "    [0, 0, 3]\n",
    "])\n",
    "\n",
    "# matrix 2\n",
    "test_function([\n",
    "    [0, 1],\n",
    "    [1, 0]\n",
    "])\n",
    "\n",
    "# matrix 3\n",
    "test_function([\n",
    "    [4/5, -3/5, 0],\n",
    "    [3/5, 4/5, 0],\n",
    "    [1, 2, 2]\n",
    "])\n",
    "\n",
    "test_function([\n",
    "    [0, 0, 0, 1],\n",
    "    [0, 0, 1, 0],\n",
    "    [0, 1, 0, 0],\n",
    "    [1, 0, 0, 0]\n",
    "])"
   ]
  },
  {
   "cell_type": "markdown",
   "metadata": {},
   "source": [
    "## Section 3.1: Hessenberg Reduction with Householder Transformations"
   ]
  },
  {
   "cell_type": "code",
   "execution_count": null,
   "metadata": {},
   "outputs": [
    {
     "ename": "ValueError",
     "evalue": "operands could not be broadcast together with shapes (3,3) (2,2) ",
     "output_type": "error",
     "traceback": [
      "\u001b[0;31m---------------------------------------------------------------------------\u001b[0m",
      "\u001b[0;31mValueError\u001b[0m                                Traceback (most recent call last)",
      "Cell \u001b[0;32mIn[41], line 16\u001b[0m\n\u001b[1;32m     12\u001b[0m         A[\u001b[38;5;241m0\u001b[39m:m, k\u001b[38;5;241m+\u001b[39m\u001b[38;5;241m1\u001b[39m:m] \u001b[38;5;241m=\u001b[39m A[\u001b[38;5;241m0\u001b[39m:m, k\u001b[38;5;241m+\u001b[39m\u001b[38;5;241m1\u001b[39m:m] \u001b[38;5;241m@\u001b[39m H\n\u001b[1;32m     14\u001b[0m     \u001b[38;5;28;01mreturn\u001b[39;00m A\n\u001b[0;32m---> 16\u001b[0m \u001b[43mhess\u001b[49m\u001b[43m(\u001b[49m\u001b[43mnp\u001b[49m\u001b[38;5;241;43m.\u001b[39;49m\u001b[43marray\u001b[49m\u001b[43m(\u001b[49m\u001b[43m[\u001b[49m\n\u001b[1;32m     17\u001b[0m \u001b[43m    \u001b[49m\u001b[43m[\u001b[49m\u001b[43m \u001b[49m\u001b[38;5;241;43m1\u001b[39;49m\u001b[43m,\u001b[49m\u001b[43m \u001b[49m\u001b[38;5;241;43m2\u001b[39;49m\u001b[43m,\u001b[49m\u001b[43m \u001b[49m\u001b[38;5;241;43m3\u001b[39;49m\u001b[43m,\u001b[49m\u001b[43m \u001b[49m\u001b[38;5;241;43m4\u001b[39;49m\u001b[43m \u001b[49m\u001b[43m]\u001b[49m\u001b[43m,\u001b[49m\n\u001b[1;32m     18\u001b[0m \u001b[43m    \u001b[49m\u001b[43m[\u001b[49m\u001b[43m \u001b[49m\u001b[38;5;241;43m4\u001b[39;49m\u001b[43m,\u001b[49m\u001b[43m \u001b[49m\u001b[38;5;241;43m5\u001b[39;49m\u001b[43m,\u001b[49m\u001b[43m \u001b[49m\u001b[38;5;241;43m6\u001b[39;49m\u001b[43m,\u001b[49m\u001b[43m \u001b[49m\u001b[38;5;241;43m82\u001b[39;49m\u001b[43m \u001b[49m\u001b[43m]\u001b[49m\u001b[43m,\u001b[49m\n\u001b[1;32m     19\u001b[0m \u001b[43m    \u001b[49m\u001b[43m[\u001b[49m\u001b[43m \u001b[49m\u001b[38;5;241;43m7\u001b[39;49m\u001b[43m,\u001b[49m\u001b[43m \u001b[49m\u001b[38;5;241;43m8\u001b[39;49m\u001b[43m,\u001b[49m\u001b[43m \u001b[49m\u001b[38;5;241;43m9\u001b[39;49m\u001b[43m,\u001b[49m\u001b[43m \u001b[49m\u001b[38;5;241;43m2\u001b[39;49m\u001b[43m \u001b[49m\u001b[43m]\u001b[49m\u001b[43m,\u001b[49m\n\u001b[1;32m     20\u001b[0m \u001b[43m    \u001b[49m\u001b[43m[\u001b[49m\u001b[43m \u001b[49m\u001b[38;5;241;43m39\u001b[39;49m\u001b[43m,\u001b[49m\u001b[43m \u001b[49m\u001b[38;5;241;43m2\u001b[39;49m\u001b[43m,\u001b[49m\u001b[43m \u001b[49m\u001b[38;5;241;43m1\u001b[39;49m\u001b[43m,\u001b[49m\u001b[43m \u001b[49m\u001b[38;5;241;43m-\u001b[39;49m\u001b[38;5;241;43m5\u001b[39;49m\u001b[43m \u001b[49m\u001b[43m]\u001b[49m\n\u001b[1;32m     21\u001b[0m \u001b[43m]\u001b[49m\u001b[43m)\u001b[49m\u001b[43m)\u001b[49m\n",
      "Cell \u001b[0;32mIn[41], line 10\u001b[0m, in \u001b[0;36mhess\u001b[0;34m(A)\u001b[0m\n\u001b[1;32m      8\u001b[0m v \u001b[38;5;241m=\u001b[39m sgn(x[\u001b[38;5;241m0\u001b[39m]) \u001b[38;5;241m*\u001b[39m np\u001b[38;5;241m.\u001b[39mlinalg\u001b[38;5;241m.\u001b[39mnorm(x) \u001b[38;5;241m*\u001b[39m np\u001b[38;5;241m.\u001b[39meye(x\u001b[38;5;241m.\u001b[39mshape[\u001b[38;5;241m0\u001b[39m])[:, \u001b[38;5;241m0\u001b[39m] \u001b[38;5;241m+\u001b[39m x\n\u001b[1;32m      9\u001b[0m v \u001b[38;5;241m=\u001b[39m v \u001b[38;5;241m/\u001b[39m np\u001b[38;5;241m.\u001b[39mlinalg\u001b[38;5;241m.\u001b[39mnorm(v)\n\u001b[0;32m---> 10\u001b[0m H \u001b[38;5;241m=\u001b[39m \u001b[43mnp\u001b[49m\u001b[38;5;241;43m.\u001b[39;49m\u001b[43meye\u001b[49m\u001b[43m(\u001b[49m\u001b[43mm\u001b[49m\u001b[43m \u001b[49m\u001b[38;5;241;43m-\u001b[39;49m\u001b[43m \u001b[49m\u001b[38;5;241;43m1\u001b[39;49m\u001b[43m)\u001b[49m\u001b[43m \u001b[49m\u001b[38;5;241;43m-\u001b[39;49m\u001b[43m \u001b[49m\u001b[38;5;241;43m2\u001b[39;49m\u001b[43m \u001b[49m\u001b[38;5;241;43m*\u001b[39;49m\u001b[43m \u001b[49m\u001b[43mnp\u001b[49m\u001b[38;5;241;43m.\u001b[39;49m\u001b[43mouter\u001b[49m\u001b[43m(\u001b[49m\u001b[43mv\u001b[49m\u001b[43m,\u001b[49m\u001b[43m \u001b[49m\u001b[43mv\u001b[49m\u001b[43m)\u001b[49m\n\u001b[1;32m     11\u001b[0m A[k\u001b[38;5;241m+\u001b[39m\u001b[38;5;241m1\u001b[39m:m, k:m] \u001b[38;5;241m=\u001b[39m H \u001b[38;5;241m@\u001b[39m A[k\u001b[38;5;241m+\u001b[39m\u001b[38;5;241m1\u001b[39m:m, k:m]\n\u001b[1;32m     12\u001b[0m A[\u001b[38;5;241m0\u001b[39m:m, k\u001b[38;5;241m+\u001b[39m\u001b[38;5;241m1\u001b[39m:m] \u001b[38;5;241m=\u001b[39m A[\u001b[38;5;241m0\u001b[39m:m, k\u001b[38;5;241m+\u001b[39m\u001b[38;5;241m1\u001b[39m:m] \u001b[38;5;241m@\u001b[39m H\n",
      "\u001b[0;31mValueError\u001b[0m: operands could not be broadcast together with shapes (3,3) (2,2) "
     ]
    }
   ],
   "source": [
    "def sgn(a: float) -> float:\n",
    "    return 1 if a > 0 else (-1 if a < 0 else 0)\n",
    "\n",
    "def hess(A: np.ndarray):\n",
    "    m = A.shape[0]\n",
    "    for k in range(m - 2):\n",
    "        x = A[k+1:m, k]\n",
    "        v = sgn(x[0]) * np.linalg.norm(x) * np.eye(x.shape[0])[:, 0] + x\n",
    "        v = v / np.linalg.norm(v)\n",
    "        H = np.eye(v.shape[0]) - 2 * np.outer(v, v)\n",
    "        A[k+1:m, k:m] = H @ A[k+1:m, k:m]\n",
    "        A[0:m, k+1:m] = A[0:m, k+1:m] @ H\n",
    "    \n",
    "    return A\n",
    "\n",
    "hess(np.array([\n",
    "    [ 1, 2, 3, 4 ],\n",
    "    [ 4, 5, 6, 82 ],\n",
    "    [ 7, 8, 9, 2 ],\n",
    "    [ 39, 2, 1, -5 ]\n",
    "]))"
   ]
  },
  {
   "cell_type": "code",
   "execution_count": 137,
   "metadata": {},
   "outputs": [
    {
     "name": "stdout",
     "output_type": "stream",
     "text": [
      "10x10: 0.5953311920166016ms\n",
      "20x20: 1.277923583984375ms\n",
      "30x30: 0.3483295440673828ms\n",
      "40x40: 2.030611038208008ms\n",
      "50x50: 2.957582473754883ms\n",
      "60x60: 0.5764961242675781ms\n",
      "70x70: 1.0645389556884766ms\n",
      "80x80: 0.4582405090332031ms\n",
      "90x90: 0.4305839538574219ms\n",
      "100x100: 0.9560585021972656ms\n",
      "110x110: 1.6965866088867188ms\n",
      "120x120: 2.5911331176757812ms\n",
      "130x130: 4.216194152832031ms\n",
      "140x140: 1.016378402709961ms\n",
      "150x150: 0.7071495056152344ms\n",
      "160x160: 1.5916824340820312ms\n",
      "170x170: 1.0919570922851562ms\n",
      "180x180: 1.8208026885986328ms\n",
      "190x190: 5.187749862670898ms\n",
      "200x200: 1.1234283447265625ms\n",
      "210x210: 2.2423267364501953ms\n",
      "220x220: 1.6551017761230469ms\n",
      "230x230: 15.918731689453125ms\n",
      "240x240: 4.390716552734375ms\n",
      "250x250: 4.629850387573242ms\n",
      "260x260: 60.24670600891113ms\n",
      "270x270: 61.975717544555664ms\n",
      "280x280: 12.447595596313477ms\n",
      "290x290: 2.6352405548095703ms\n",
      "300x300: 8.119821548461914ms\n"
     ]
    }
   ],
   "source": [
    "tolerance = 0.01\n",
    "\n",
    "all_times = []\n",
    "\n",
    "# for n in range(100, 101, 10):\n",
    "for n in range(10, 310, 10):\n",
    "    times = []\n",
    "\n",
    "    iterations = 10\n",
    "    while len(times) < 1:\n",
    "        # steps 1, 2 and 3\n",
    "        A = np.random.randn(n, n)\n",
    "        x0 = np.random.randn(n)\n",
    "        iterations //= 2\n",
    "\n",
    "        # calculate eigenvalues\n",
    "        evals, _ = sp.linalg.eig(A)\n",
    "        # calculate matrix of eigenvalues and absolute value of eigenvalues\n",
    "        evals = np.array([ evals, np.abs(evals) ])\n",
    "        # sort eigenvalues by absolute value of eigenvalues (2nd row)\n",
    "        evals = evals[:, np.argsort(evals[1])[::-1]]\n",
    "        if np.isclose(evals[1, 0], evals[1, 1]):\n",
    "            continue\n",
    "\n",
    "        while True:\n",
    "            # time power method\n",
    "            start = time.time()\n",
    "            dominant = power_method(A, iterations, x0=x0)\n",
    "            end = time.time()\n",
    "\n",
    "            # calculate absolute value of returned thing\n",
    "            abs_dominant = abs(dominant)\n",
    "            abs_dominant_correct = abs(evals[0, 0])\n",
    "\n",
    "            # check error and then add time\n",
    "            # print(abs_dominant, abs_dominant_correct, abs(abs_dominant - abs_dominant_correct), end - start)\n",
    "            if abs(abs_dominant - abs_dominant_correct) < tolerance:\n",
    "                times.append(end - start)\n",
    "                break\n",
    "            if iterations >= 10000:\n",
    "                times.append(-1)\n",
    "                break\n",
    "        \n",
    "            # if error too bad add 10 to iterations\n",
    "            iterations += 10\n",
    "\n",
    "    all_times.append(times)\n",
    "\n",
    "    average = sum(times) / len(times)\n",
    "    print(f\"{n}x{n}: {average * 1000}ms\")\n",
    "\n",
    "with open(\"result.txt\", \"w\") as file:\n",
    "    file.write(repr(all_times))"
   ]
  }
 ],
 "metadata": {
  "kernelspec": {
   "display_name": "venv313",
   "language": "python",
   "name": "python3"
  },
  "language_info": {
   "codemirror_mode": {
    "name": "ipython",
    "version": 3
   },
   "file_extension": ".py",
   "mimetype": "text/x-python",
   "name": "python",
   "nbconvert_exporter": "python",
   "pygments_lexer": "ipython3",
   "version": "3.13.2"
  }
 },
 "nbformat": 4,
 "nbformat_minor": 2
}
